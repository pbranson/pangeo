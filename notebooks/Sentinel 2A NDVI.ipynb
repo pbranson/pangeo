{
 "cells": [
  {
   "cell_type": "code",
   "execution_count": null,
   "metadata": {},
   "outputs": [],
   "source": [
    "% pylab inline\n",
    "\n",
    "import pandas as pd\n",
    "\n"
   ]
  },
  {
   "cell_type": "code",
   "execution_count": null,
   "metadata": {},
   "outputs": [],
   "source": [
    "df = pd.read_csv('~/index.csv',header=0,index_col=0,nrows=5)\n",
    "df"
   ]
  },
  {
   "cell_type": "code",
   "execution_count": null,
   "metadata": {},
   "outputs": [],
   "source": [
    "import rasterio\n",
    "\n",
    "print(df.iloc[0].BASE_URL)\n",
    "\n",
    "\n",
    "\n",
    "# test = \n"
   ]
  },
  {
   "cell_type": "code",
   "execution_count": null,
   "metadata": {},
   "outputs": [],
   "source": [
    "with rasterio.open('/home/jovyan/S2A_OPER_MSI_L1C_TL_EPA__20160605T113933_A000162_T33UUP_B09.jp2') as src:\n",
    "    band = src.read()\n",
    "    \n",
    "band\n"
   ]
  },
  {
   "cell_type": "code",
   "execution_count": null,
   "metadata": {},
   "outputs": [],
   "source": [
    "%%time\n",
    "\n",
    "import xarray as xr\n",
    "\n",
    "# with rasterio.open('https://storage.googleapis.com/gcp-public-data-sentinel-2/tiles/33/U/UP/S2A_MSIL1C_20150704T101337_N0202_R022_T33UUP_20160606T205155.SAFE/GRANULE/S2A_OPER_MSI_L1C_TL_EPA__20160605T113933_A000162_T33UUP_N02.02/IMG_DATA/S2A_OPER_MSI_L1C_TL_EPA__20160605T113933_A000162_T33UUP_B04.jp2') as src:\n",
    "#     band  = src.read()\n",
    "\n",
    "da = xr.open_rasterio('https://storage.googleapis.com/gcp-public-data-sentinel-2/tiles/33/U/UP/S2A_MSIL1C_20150704T101337_N0202_R022_T33UUP_20160606T205155.SAFE/GRANULE/S2A_OPER_MSI_L1C_TL_EPA__20160605T113933_A000162_T33UUP_N02.02/IMG_DATA/S2A_OPER_MSI_L1C_TL_EPA__20160605T113933_A000162_T33UUP_B04.jp2')\n"
   ]
  },
  {
   "cell_type": "code",
   "execution_count": null,
   "metadata": {},
   "outputs": [],
   "source": [
    "da.values.shape\n",
    "# imData = ds.band\n",
    "# imData"
   ]
  },
  {
   "cell_type": "code",
   "execution_count": null,
   "metadata": {},
   "outputs": [],
   "source": [
    "import matplotlib.pyplot as pl\n",
    "pl.imshow(da.values.squeeze())\n",
    "\n"
   ]
  }
 ],
 "metadata": {
  "kernelspec": {
   "display_name": "Python [default]",
   "language": "python",
   "name": "python3"
  },
  "language_info": {
   "codemirror_mode": {
    "name": "ipython",
    "version": 3
   },
   "file_extension": ".py",
   "mimetype": "text/x-python",
   "name": "python",
   "nbconvert_exporter": "python",
   "pygments_lexer": "ipython3",
   "version": "3.6.3"
  }
 },
 "nbformat": 4,
 "nbformat_minor": 2
}
